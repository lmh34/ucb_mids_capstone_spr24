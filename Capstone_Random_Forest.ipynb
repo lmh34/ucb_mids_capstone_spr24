{
 "cells": [
  {
   "cell_type": "code",
   "execution_count": 23,
   "id": "7f5e72f4",
   "metadata": {},
   "outputs": [],
   "source": [
    "import pandas as pd\n",
    "import matplotlib.pyplot as plt\n",
    "from sklearn.model_selection import train_test_split\n",
    "from sklearn.ensemble import RandomForestRegressor\n",
    "from sklearn.metrics import mean_squared_error, mean_absolute_error, r2_score\n",
    "\n",
    "# Load the data\n",
    "df = pd.read_excel('FULL_Capstone_Data.xlsx', engine='openpyxl')\n",
    "\n",
    "# Convert categorical variable(s) to dummy variables\n",
    "df = pd.get_dummies(df, drop_first=True)\n",
    "\n",
    "# After creating dummy variables in your training data\n",
    "train_columns = df.columns\n",
    "\n",
    "# For numerical columns\n",
    "for col in df.columns:\n",
    "    if df[col].dtype == 'float64' or df[col].dtype == 'int64':\n",
    "        df[col].fillna(0, inplace=True)\n",
    "\n",
    "# Define your features and target variable\n",
    "X = df.drop('Provisional Drug Overdose Deaths', axis=1)\n",
    "y = df['Provisional Drug Overdose Deaths']\n",
    "\n",
    "# Split the data into training and testing sets\n",
    "X_train, X_test, y_train, y_test = train_test_split(X, y, test_size=0.1, random_state=42)\n"
   ]
  },
  {
   "cell_type": "markdown",
   "id": "0f0b5268",
   "metadata": {},
   "source": [
    "# Random Forest Simple Model"
   ]
  },
  {
   "cell_type": "code",
   "execution_count": 24,
   "id": "25094d99",
   "metadata": {},
   "outputs": [
    {
     "name": "stdout",
     "output_type": "stream",
     "text": [
      "Mean Squared Error: 7.926188395061731\n"
     ]
    },
    {
     "data": {
      "image/png": "[encoded data removed]",
      "text/plain": [
       "<Figure size 432x288 with 1 Axes>"
      ]
     },
     "metadata": {
      "needs_background": "light"
     },
     "output_type": "display_data"
    }
   ],
   "source": [
    "# Create a model\n",
    "model = RandomForestRegressor(n_estimators=60, random_state=11)\n",
    "\n",
    "# Train the model\n",
    "model.fit(X_train, y_train)\n",
    "\n",
    "# Make predictions\n",
    "predictions = model.predict(X_test)\n",
    "\n",
    "# Evaluate the model\n",
    "mse = mean_squared_error(y_test, predictions)\n",
    "\n",
    "print(f'Mean Squared Error: {mse}')\n",
    "\n",
    "# Plot actual vs predicted values\n",
    "plt.scatter(y_test, predictions)\n",
    "plt.xlabel('Actual Values')\n",
    "plt.ylabel('Predicted Values')\n",
    "plt.title('Actual vs Predicted Complexity Rating')\n",
    "plt.show()"
   ]
  },
  {
   "cell_type": "markdown",
   "id": "2d204e61",
   "metadata": {},
   "source": [
    "# Accuracy"
   ]
  },
  {
   "cell_type": "code",
   "execution_count": 25,
   "id": "b284f007",
   "metadata": {},
   "outputs": [
    {
     "name": "stdout",
     "output_type": "stream",
     "text": [
      "Root Mean Squared Error: 2.8153487164224846\n",
      "Mean Absolute Error: 0.7386518518518522\n",
      "R-squared: 0.9997669303822639\n",
      "Accuracy within ± 1: 0.87\n"
     ]
    }
   ],
   "source": [
    "# Calculate Root Mean Squared Error\n",
    "rmse = np.sqrt(mean_squared_error(y_test, predictions))\n",
    "print(f'Root Mean Squared Error: {rmse}')\n",
    "\n",
    "# Calculate Mean Absolute Error\n",
    "mae = mean_absolute_error(y_test, predictions)\n",
    "print(f'Mean Absolute Error: {mae}')\n",
    "\n",
    "# Calculate R-squared\n",
    "r2 = r2_score(y_test, predictions)\n",
    "print(f'R-squared: {r2}')\n",
    "\n",
    "# Calculate the number of predictions within ±1 of the actual values\n",
    "within_range = np.abs(predictions - y_test) <= 1\n",
    "\n",
    "# Calculate the accuracy as the proportion of predictions within the range\n",
    "accuracy_within_range = np.mean(within_range)\n",
    "print(f'Accuracy within ± 1: {accuracy_within_range:.2f}')"
   ]
  },
  {
   "cell_type": "markdown",
   "id": "cfe7581e",
   "metadata": {},
   "source": [
    "# New Data Section"
   ]
  },
  {
   "cell_type": "markdown",
   "id": "832c53da",
   "metadata": {},
   "source": [
    "### This is where we will upload new data (in May when it's released) to predict out further into the future"
   ]
  },
  {
   "cell_type": "code",
   "execution_count": 3,
   "id": "3d2776d0",
   "metadata": {},
   "outputs": [
    {
     "name": "stderr",
     "output_type": "stream",
     "text": [
      "C:\\Users\\jjman\\anaconda3\\envs\\JoseEnv\\lib\\site-packages\\ipykernel_launcher.py:16: PerformanceWarning: DataFrame is highly fragmented.  This is usually the result of calling `frame.insert` many times, which has poor performance.  Consider joining all columns at once using pd.concat(axis=1) instead.  To get a de-fragmented frame, use `newframe = frame.copy()`\n",
      "  app.launch_new_instance()\n"
     ]
    },
    {
     "name": "stdout",
     "output_type": "stream",
     "text": [
      "[3.8 3.8 3.8 ... 1.3 1.3 1.3]\n"
     ]
    }
   ],
   "source": [
    "# Load new data\n",
    "new_data = pd.read_excel('predictions_before.xlsx', engine='openpyxl')\n",
    "\n",
    "# Preprocess the new data in the same way as the training data\n",
    "new_data = pd.get_dummies(new_data, drop_first=True)\n",
    "\n",
    "# For numerical columns\n",
    "#new_data[col].fillna(new_data[col].mean(), inplace=True)\n",
    "for col in new_data.columns:\n",
    "    if new_data[col].dtype == 'float64' or new_data[col].dtype == 'int64':\n",
    "        new_data[col].fillna(0, inplace=True)\n",
    "\n",
    "# Add missing columns of zeros\n",
    "missing_cols = set(train_columns) - set(new_data.columns)\n",
    "for c in missing_cols:\n",
    "    new_data[c] = 0\n",
    "\n",
    "# Ensure the order of column in the test set is in the same order than in train set\n",
    "new_data = new_data[train_columns]\n",
    "\n",
    "# Separate features from target\n",
    "X_new = new_data.drop('Provisional Drug Overdose Deaths', axis=1)\n",
    "y_new = new_data['Provisional Drug Overdose Deaths']\n",
    "\n",
    "\n",
    "# Use the model to make predictions on the new data\n",
    "new_predictions = model.predict(X_new)\n",
    "\n",
    "# If you want to see the predicted values\n",
    "print(new_predictions)\n"
   ]
  },
  {
   "cell_type": "code",
   "execution_count": 5,
   "id": "78bc834a",
   "metadata": {},
   "outputs": [],
   "source": [
    "# Create a DataFrame with the desired columns and predictions\n",
    "output_df = pd.DataFrame({\n",
    "    'ID': new_data['ID'],\n",
    "    'Provisional Drug Overdose Deaths': new_predictions\n",
    "})\n",
    "\n",
    "# Write the DataFrame to an Excel file\n",
    "output_df.to_excel('Predictions_After.xlsx', index=False)"
   ]
  },
  {
   "cell_type": "code",
   "execution_count": null,
   "id": "6db6fc65",
   "metadata": {},
   "outputs": [],
   "source": []
  }
 ],
 "metadata": {
  "kernelspec": {
   "display_name": "Python 3 (ipykernel)",
   "language": "python",
   "name": "python3"
  },
  "language_info": {
   "codemirror_mode": {
    "name": "ipython",
    "version": 3
   },
   "file_extension": ".py",
   "mimetype": "text/x-python",
   "name": "python",
   "nbconvert_exporter": "python",
   "pygments_lexer": "ipython3",
   "version": "3.7.13"
  }
 },
 "nbformat": 4,
 "nbformat_minor": 5
}
